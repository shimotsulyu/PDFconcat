{
 "cells": [
  {
   "cell_type": "code",
   "execution_count": 82,
   "metadata": {},
   "outputs": [
    {
     "name": "stdout",
     "output_type": "stream",
     "text": [
      "------LABEL MAKER CARREGADO-----\n",
      "Gerando arquivos para as páginas: [1, 3, 4]\n",
      "Arquivos encontrados : 12\n",
      "COMPLETADO!\n",
      "****************************FIM\n"
     ]
    }
   ],
   "source": [
    "import os\n",
    "import sys\n",
    "import csv\n",
    "from PyPDF2 import PdfFileMerger\n",
    "config, p = [], []\n",
    "with open('config.csv', 'r') as arquivo_csv:\n",
    "    leitor = csv.reader(arquivo_csv, delimiter='=')\n",
    "    for coluna in leitor:\n",
    "        config.append(coluna)\n",
    "diretorio = config[0][1].lstrip()\n",
    "paginas = config[1][1].lstrip()\n",
    "for i in range(0,len(paginas),2):\n",
    "    p.append(int(paginas[i]))\n",
    "    \n",
    "print('------LABEL MAKER CARREGADO-----')\n",
    "print('Gerando arquivos para as páginas:',p)\n",
    "x = [a for a in os.listdir(diretorio+'entrada/') if a.endswith(\".pdf\")]\n",
    "if x==[]:\n",
    "    print('O diretório está vazio:',len(x))\n",
    "    print('Insira os arquivos e incie novamente!')\n",
    "    print('****************************FIM')\n",
    "else:\n",
    "    print('Arquivos encontrados :',len(x))\n",
    "    s = [a for a in os.listdir(diretorio+'tmp/') if a.endswith(\".pdf\")]\n",
    "    c = len(set(x).intersection(s))\n",
    "    if c > 0:\n",
    "        print(c,'ARQUIVOS JÁ FORAM IMPRESSO!')\n",
    "        print('****************************FIM')\n",
    "        #sys.exit(2)\n",
    "    else:\n",
    "        for i in range(0,len(p)):\n",
    "            arquivos = PdfFileMerger()\n",
    "            for pdf in x:\n",
    "                arquivos.append(diretorio+'entrada/'+str(pdf),pages=(int(p[i])-1,p[i]))\n",
    "                if i == len(p)-1:\n",
    "                    os.link(diretorio+'entrada/'+str(pdf), diretorio+'tmp/'+str(pdf))\n",
    "                    os.remove(diretorio+'entrada/'+str(pdf))\n",
    "            arquivos.write(diretorio+'saida/Pagina'+str(p[i])+'.pdf')\n",
    "            arquivos.close()\n",
    "        print('COMPLETADO!')\n",
    "        print('****************************FIM')"
   ]
  },
  {
   "cell_type": "code",
   "execution_count": 23,
   "metadata": {},
   "outputs": [],
   "source": [
    "import pandas as pd\n",
    "import os\n",
    "data = pd.read_csv('config.csv',sep=';',header=None)"
   ]
  },
  {
   "cell_type": "code",
   "execution_count": 26,
   "metadata": {},
   "outputs": [
    {
     "name": "stdout",
     "output_type": "stream",
     "text": [
      "0    /home/shimotsu/code/PDFconcat/entrada/\n",
      "Name: 1, dtype: object\n"
     ]
    }
   ],
   "source": [
    "print(str(data.loc[data[0]=='diretorio',1]+'entrada/'))"
   ]
  },
  {
   "cell_type": "code",
   "execution_count": 27,
   "metadata": {},
   "outputs": [
    {
     "ename": "FileNotFoundError",
     "evalue": "[Errno 2] No such file or directory: '0    /home/shimotsu/code/PDFconcat/entrada/\\nName: 1, dtype: object'",
     "output_type": "error",
     "traceback": [
      "\u001b[0;31m---------------------------------------------------------------------------\u001b[0m",
      "\u001b[0;31mFileNotFoundError\u001b[0m                         Traceback (most recent call last)",
      "\u001b[0;32m<ipython-input-27-54c1b4f6de64>\u001b[0m in \u001b[0;36m<module>\u001b[0;34m\u001b[0m\n\u001b[0;32m----> 1\u001b[0;31m \u001b[0mx\u001b[0m \u001b[0;34m=\u001b[0m \u001b[0;34m[\u001b[0m\u001b[0ma\u001b[0m \u001b[0;32mfor\u001b[0m \u001b[0ma\u001b[0m \u001b[0;32min\u001b[0m \u001b[0mos\u001b[0m\u001b[0;34m.\u001b[0m\u001b[0mlistdir\u001b[0m\u001b[0;34m(\u001b[0m\u001b[0mstr\u001b[0m\u001b[0;34m(\u001b[0m\u001b[0mdata\u001b[0m\u001b[0;34m.\u001b[0m\u001b[0mloc\u001b[0m\u001b[0;34m[\u001b[0m\u001b[0mdata\u001b[0m\u001b[0;34m[\u001b[0m\u001b[0;36m0\u001b[0m\u001b[0;34m]\u001b[0m\u001b[0;34m==\u001b[0m\u001b[0;34m'diretorio'\u001b[0m\u001b[0;34m,\u001b[0m\u001b[0;36m1\u001b[0m\u001b[0;34m]\u001b[0m\u001b[0;34m+\u001b[0m\u001b[0;34m'entrada/'\u001b[0m\u001b[0;34m)\u001b[0m\u001b[0;34m)\u001b[0m \u001b[0;32mif\u001b[0m \u001b[0ma\u001b[0m\u001b[0;34m.\u001b[0m\u001b[0mendswith\u001b[0m\u001b[0;34m(\u001b[0m\u001b[0;34m\".pdf\"\u001b[0m\u001b[0;34m)\u001b[0m\u001b[0;34m]\u001b[0m\u001b[0;34m\u001b[0m\u001b[0;34m\u001b[0m\u001b[0m\n\u001b[0m\u001b[1;32m      2\u001b[0m \u001b[0;32mif\u001b[0m \u001b[0mx\u001b[0m\u001b[0;34m==\u001b[0m\u001b[0;34m[\u001b[0m\u001b[0;34m]\u001b[0m\u001b[0;34m:\u001b[0m\u001b[0;34m\u001b[0m\u001b[0;34m\u001b[0m\u001b[0m\n\u001b[1;32m      3\u001b[0m     \u001b[0mprint\u001b[0m\u001b[0;34m(\u001b[0m\u001b[0;34m'O diretório está vazio:'\u001b[0m\u001b[0;34m,\u001b[0m\u001b[0mlen\u001b[0m\u001b[0;34m(\u001b[0m\u001b[0mx\u001b[0m\u001b[0;34m)\u001b[0m\u001b[0;34m)\u001b[0m\u001b[0;34m\u001b[0m\u001b[0;34m\u001b[0m\u001b[0m\n\u001b[1;32m      4\u001b[0m     \u001b[0mprint\u001b[0m\u001b[0;34m(\u001b[0m\u001b[0;34m'Insira os arquivos e incie novamente!'\u001b[0m\u001b[0;34m)\u001b[0m\u001b[0;34m\u001b[0m\u001b[0;34m\u001b[0m\u001b[0m\n\u001b[1;32m      5\u001b[0m     \u001b[0mprint\u001b[0m\u001b[0;34m(\u001b[0m\u001b[0;34m'****************************FIM'\u001b[0m\u001b[0;34m)\u001b[0m\u001b[0;34m\u001b[0m\u001b[0;34m\u001b[0m\u001b[0m\n",
      "\u001b[0;31mFileNotFoundError\u001b[0m: [Errno 2] No such file or directory: '0    /home/shimotsu/code/PDFconcat/entrada/\\nName: 1, dtype: object'"
     ]
    }
   ],
   "source": []
  },
  {
   "cell_type": "code",
   "execution_count": 60,
   "metadata": {},
   "outputs": [
    {
     "name": "stdout",
     "output_type": "stream",
     "text": [
      "['diretorio ', ' /home/shimotsu/code/PDFconcat/']\n",
      "['paginas ', ' 1,3,4']\n"
     ]
    }
   ],
   "source": [
    "import csv\n",
    "config = []\n",
    "with open('config.csv', 'r') as arquivo_csv:\n",
    "    leitor = csv.reader(arquivo_csv, delimiter='=')\n",
    "    for coluna in leitor:\n",
    "        print(coluna)\n",
    "        config.append(coluna)\n",
    "diretorio = config[0][1].lstrip()\n",
    "paginas = config[1][1].lstrip()"
   ]
  },
  {
   "cell_type": "code",
   "execution_count": 61,
   "metadata": {},
   "outputs": [
    {
     "name": "stdout",
     "output_type": "stream",
     "text": [
      "/home/shimotsu/code/PDFconcat/\n",
      "1,3,4\n"
     ]
    }
   ],
   "source": [
    "print(diretorio)\n",
    "print(paginas)"
   ]
  },
  {
   "cell_type": "code",
   "execution_count": 62,
   "metadata": {},
   "outputs": [
    {
     "name": "stdout",
     "output_type": "stream",
     "text": [
      "Arquivos encontrados : 12\n"
     ]
    }
   ],
   "source": [
    "x = [a for a in os.listdir(diretorio+'entrada/') if a.endswith(\".pdf\")]\n",
    "if x==[]:\n",
    "    print('O diretório está vazio:',len(x))\n",
    "    print('Insira os arquivos e incie novamente!')\n",
    "    print('****************************FIM')\n",
    "else:\n",
    "    print('Arquivos encontrados :',len(x))"
   ]
  },
  {
   "cell_type": "code",
   "execution_count": 65,
   "metadata": {},
   "outputs": [
    {
     "data": {
      "text/plain": [
       "'1,3,4'"
      ]
     },
     "execution_count": 65,
     "metadata": {},
     "output_type": "execute_result"
    }
   ],
   "source": [
    "paginas"
   ]
  },
  {
   "cell_type": "code",
   "execution_count": 69,
   "metadata": {},
   "outputs": [
    {
     "data": {
      "text/plain": [
       "3.0"
      ]
     },
     "execution_count": 69,
     "metadata": {},
     "output_type": "execute_result"
    }
   ],
   "source": [
    "(len(paginas)+1)/2"
   ]
  },
  {
   "cell_type": "code",
   "execution_count": 78,
   "metadata": {},
   "outputs": [],
   "source": [
    "p = []\n",
    "for i in range(0,len(paginas),2):\n",
    "    p.append(int(paginas[i]))\n",
    "    "
   ]
  },
  {
   "cell_type": "code",
   "execution_count": 79,
   "metadata": {},
   "outputs": [
    {
     "data": {
      "text/plain": [
       "[1, 3, 4]"
      ]
     },
     "execution_count": 79,
     "metadata": {},
     "output_type": "execute_result"
    }
   ],
   "source": []
  },
  {
   "cell_type": "code",
   "execution_count": null,
   "metadata": {},
   "outputs": [],
   "source": []
  }
 ],
 "metadata": {
  "kernelspec": {
   "display_name": "Python 3",
   "language": "python",
   "name": "python3"
  },
  "language_info": {
   "codemirror_mode": {
    "name": "ipython",
    "version": 3
   },
   "file_extension": ".py",
   "mimetype": "text/x-python",
   "name": "python",
   "nbconvert_exporter": "python",
   "pygments_lexer": "ipython3",
   "version": "3.7.7"
  }
 },
 "nbformat": 4,
 "nbformat_minor": 4
}
