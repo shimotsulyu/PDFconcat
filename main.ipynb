{
 "cells": [
  {
   "cell_type": "code",
   "execution_count": 2,
   "metadata": {},
   "outputs": [
    {
     "name": "stdout",
     "output_type": "stream",
     "text": [
      "------LABEL MAKER CARREGADO-----\n",
      "Gerando arquivos para as páginas: [1, 3, 4]\n",
      "Arquivos encontrados : 12\n",
      "COMPLETADO!\n",
      "****************************FIM\n"
     ]
    }
   ],
   "source": [
    "import os\n",
    "import sys\n",
    "from PyPDF2 import PdfFileMerger\n",
    "%run config.ipynb\n",
    "print('------LABEL MAKER CARREGADO-----')\n",
    "print('Gerando arquivos para as páginas:',n_p)\n",
    "x = [a for a in os.listdir(diretorio+'entrada/') if a.endswith(\".pdf\")]\n",
    "if x==[]:\n",
    "    print('O diretório está vazio:',len(x))\n",
    "    print('Insira os arquivos e incie novamente!')\n",
    "    print('****************************FIM')\n",
    "else:\n",
    "    print('Arquivos encontrados :',len(x))\n",
    "    s = [a for a in os.listdir(diretorio+'tmp/') if a.endswith(\".pdf\")]\n",
    "    c = len(set(x).intersection(s))\n",
    "    if c > 0:\n",
    "        print(c,'ARQUIVOS JÁ FORAM IMPRESSO!')\n",
    "        print('****************************FIM')\n",
    "        #sys.exit(2)\n",
    "    else:\n",
    "        for i in range(0,len(n_p)):\n",
    "            arquivos = PdfFileMerger()\n",
    "            for pdf in x:\n",
    "                arquivos.append(diretorio+'entrada/'+str(pdf),pages=(int(n_p[i])-1,n_p[i]))\n",
    "                if i == len(n_p)-1:\n",
    "                    os.link(diretorio+'entrada/'+str(pdf), diretorio+'tmp/'+str(pdf))\n",
    "                    os.remove(diretorio+'entrada/'+str(pdf))\n",
    "            arquivos.write(diretorio+'saida/Pagina'+str(n_p[i])+'.pdf')\n",
    "            arquivos.close()\n",
    "        print('COMPLETADO!')\n",
    "        print('****************************FIM')"
   ]
  },
  {
   "cell_type": "code",
   "execution_count": null,
   "metadata": {},
   "outputs": [],
   "source": []
  }
 ],
 "metadata": {
  "kernelspec": {
   "display_name": "Python 3",
   "language": "python",
   "name": "python3"
  },
  "language_info": {
   "codemirror_mode": {
    "name": "ipython",
    "version": 3
   },
   "file_extension": ".py",
   "mimetype": "text/x-python",
   "name": "python",
   "nbconvert_exporter": "python",
   "pygments_lexer": "ipython3",
   "version": "3.7.7"
  }
 },
 "nbformat": 4,
 "nbformat_minor": 4
}
