{
 "cells": [
  {
   "cell_type": "code",
   "execution_count": 83,
   "metadata": {},
   "outputs": [
    {
     "name": "stdout",
     "output_type": "stream",
     "text": [
      "------LABEL MAKER CARREGADO-----\n",
      "Gerando arquivos para as páginas: [1, 3, 4]\n",
      "O diretório está vazio: 0\n",
      "Insira os arquivos e incie novamente!\n",
      "****************************FIM\n"
     ]
    }
   ],
   "source": [
    "import os\n",
    "import sys\n",
    "import csv\n",
    "from PyPDF2 import PdfFileMerger\n",
    "config, p = [], []\n",
    "with open('config.csv', 'r') as arquivo_csv:\n",
    "    leitor = csv.reader(arquivo_csv, delimiter='=')\n",
    "    for coluna in leitor:\n",
    "        config.append(coluna)\n",
    "diretorio = config[0][1].lstrip()\n",
    "paginas = config[1][1].lstrip()\n",
    "for i in range(0,len(paginas),2):\n",
    "    p.append(int(paginas[i]))\n",
    "    \n",
    "print('------LABEL MAKER CARREGADO-----')\n",
    "print('Gerando arquivos para as páginas:',p)\n",
    "x = [a for a in os.listdir(diretorio+'entrada/') if a.endswith(\".pdf\")]\n",
    "if x==[]:\n",
    "    print('O diretório está vazio:',len(x))\n",
    "    print('Insira os arquivos e incie novamente!')\n",
    "    print('****************************FIM')\n",
    "else:\n",
    "    print('Arquivos encontrados :',len(x))\n",
    "    s = [a for a in os.listdir(diretorio+'tmp/') if a.endswith(\".pdf\")]\n",
    "    c = len(set(x).intersection(s))\n",
    "    if c > 0:\n",
    "        print(c,'ARQUIVOS JÁ FORAM IMPRESSO!')\n",
    "        print('****************************FIM')\n",
    "        #sys.exit(2)\n",
    "    else:\n",
    "        for i in range(0,len(p)):\n",
    "            arquivos = PdfFileMerger()\n",
    "            for pdf in x:\n",
    "                arquivos.append(diretorio+'entrada/'+str(pdf),pages=(int(p[i])-1,p[i]))\n",
    "                if i == len(p)-1:\n",
    "                    os.link(diretorio+'entrada/'+str(pdf), diretorio+'tmp/'+str(pdf))\n",
    "                    os.remove(diretorio+'entrada/'+str(pdf))\n",
    "            arquivos.write(diretorio+'saida/Pagina'+str(p[i])+'.pdf')\n",
    "            arquivos.close()\n",
    "        print('COMPLETADO!')\n",
    "        print('****************************FIM')"
   ]
  }
 ],
 "metadata": {
  "kernelspec": {
   "display_name": "Python 3",
   "language": "python",
   "name": "python3"
  },
  "language_info": {
   "codemirror_mode": {
    "name": "ipython",
    "version": 3
   },
   "file_extension": ".py",
   "mimetype": "text/x-python",
   "name": "python",
   "nbconvert_exporter": "python",
   "pygments_lexer": "ipython3",
   "version": "3.7.7"
  }
 },
 "nbformat": 4,
 "nbformat_minor": 4
}
